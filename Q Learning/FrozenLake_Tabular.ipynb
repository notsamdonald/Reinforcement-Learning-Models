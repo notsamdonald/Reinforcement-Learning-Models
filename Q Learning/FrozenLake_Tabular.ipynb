{
  "nbformat": 4,
  "nbformat_minor": 0,
  "metadata": {
    "colab": {
      "name": "HW4_Q2_SamDonald.ipynb",
      "provenance": [],
      "collapsed_sections": [],
      "machine_shape": "hm"
    },
    "kernelspec": {
      "name": "python3",
      "display_name": "Python 3"
    },
    "language_info": {
      "name": "python"
    },
    "accelerator": "GPU"
  },
  "cells": [
    {
      "cell_type": "markdown",
      "source": [
        "# CS5814: Assignment 4\n",
        "\n",
        "## Problem 2"
      ],
      "metadata": {
        "id": "hxeLNPYCa93i"
      }
    },
    {
      "cell_type": "markdown",
      "source": [
        "Q-learning is implemented to solve OpenAIs fozen lake environment.\n",
        "\n",
        "A custom environment layout is used and described within the code.\n",
        "\n",
        "Information on the environment is available here: https://gym.openai.com/envs/FrozenLake8x8-v0/"
      ],
      "metadata": {
        "id": "IKn6KNV-bBOs"
      }
    },
    {
      "cell_type": "markdown",
      "source": [
        "## Imports"
      ],
      "metadata": {
        "id": "dchg20BcbniV"
      }
    },
    {
      "cell_type": "code",
      "source": [
        "import gym\n",
        "import random\n",
        "import numpy as np\n",
        "import pandas as pd\n",
        "import matplotlib.pyplot as plt\n",
        "from gym.envs.toy_text.frozen_lake import FrozenLakeEnv\n",
        "from tqdm import tqdm"
      ],
      "metadata": {
        "id": "o0_bXqE2IHl9"
      },
      "execution_count": null,
      "outputs": []
    },
    {
      "cell_type": "markdown",
      "source": [
        "## Supporting Functions"
      ],
      "metadata": {
        "id": "IHeJQVfVb8c4"
      }
    },
    {
      "cell_type": "code",
      "source": [
        "def rand_argmax(b, **kw):\n",
        "    \"\"\" a random tie-breaking argmax\"\"\"\n",
        "    return np.argmax(np.random.random(b.shape) * (b == b.max()), **kw)"
      ],
      "metadata": {
        "id": "LxCu-823IX4z"
      },
      "execution_count": null,
      "outputs": []
    },
    {
      "cell_type": "code",
      "source": [
        "def running_mean(x, N):\n",
        "    cumsum = np.cumsum(np.insert(x, 0, 0))\n",
        "    return (cumsum[N:] - cumsum[:-N]) / float(N)"
      ],
      "metadata": {
        "id": "CS53NuLFaLey"
      },
      "execution_count": null,
      "outputs": []
    },
    {
      "cell_type": "code",
      "source": [
        "def display_grid(state_array):\n",
        "    \"\"\"\n",
        "    Formats the array into a  grid (used for visual interpretation)\n",
        "    \"\"\"\n",
        "\n",
        "    actions = np.array([symbol_dict[action] for action in np.argmax(state_array, axis=0)]).reshape(5, 5)\n",
        "\n",
        "    values = np.array([value for value in np.max(state_array, axis=0)]).reshape(5, 5)\n",
        "\n",
        "    print(\"\\nSample policy table:\")\n",
        "    print(actions)\n",
        "    print(\"\\n\")\n",
        "    policymap2d(actions, values)\n",
        "\n",
        "    print(\"\\nSample value table:\")\n",
        "    print(values)\n",
        "    print(\"\\n\")\n",
        "    heatmap2d(values)\n"
      ],
      "metadata": {
        "id": "8bQ3T2tJZ-iN"
      },
      "execution_count": null,
      "outputs": []
    },
    {
      "cell_type": "code",
      "source": [
        "def policymap2d(arr, c_arr):\n",
        "    #Heatmap generation code\n",
        "\n",
        "    arr = arr.reshape(5, 5)\n",
        "    c_arr = c_arr.reshape(5, 5)\n",
        "\n",
        "    plt.figure(figsize=(8,6))\n",
        "    plt.imshow(c_arr, cmap='coolwarm')\n",
        "    plt.colorbar()\n",
        "    for (j, i), label in np.ndenumerate(arr):\n",
        "        plt.text(i, j, label, ha='center', va='center', fontsize= 'xx-large')\n",
        "\n",
        "    plt.axis('off')\n",
        "    plt.show()"
      ],
      "metadata": {
        "id": "Kzrl4Vk1bIWk"
      },
      "execution_count": null,
      "outputs": []
    },
    {
      "cell_type": "code",
      "source": [
        "def heatmap2d(arr):\n",
        "    #Heatmap generation code\n",
        "\n",
        "    arr = arr.reshape(5, 5)\n",
        "\n",
        "    plt.figure(figsize=(8,6))\n",
        "    plt.imshow(arr, cmap='coolwarm')\n",
        "    plt.colorbar()\n",
        "    for (j, i), label in np.ndenumerate(arr):\n",
        "        label = \"{:.5f}\".format(label)\n",
        "        plt.text(i, j, label, ha='center', va='center')\n",
        "\n",
        "    plt.axis('off')\n",
        "    plt.show()"
      ],
      "metadata": {
        "id": "H7d_QAy_bJ05"
      },
      "execution_count": null,
      "outputs": []
    },
    {
      "cell_type": "code",
      "source": [
        "symbol_dict = {3: \"↑\", 1: \"↓\", 0: \"←\", 2: \"→\"}"
      ],
      "metadata": {
        "id": "5cYJiaVRaUO6"
      },
      "execution_count": null,
      "outputs": []
    },
    {
      "cell_type": "markdown",
      "source": [
        "## Q-learning helper functions"
      ],
      "metadata": {
        "id": "eDCZwwiZZ1DU"
      }
    },
    {
      "cell_type": "code",
      "source": [
        "def epsilon_greedy_policy(state, q_table, epsilon=0.01):\n",
        "    if np.random.random() < epsilon:\n",
        "        action = random.randint(0, 3)\n",
        "    else:\n",
        "        action = rand_argmax(q_table[:, state])  # Choose the action with largest Q-value (state value)\n",
        "    return action\n"
      ],
      "metadata": {
        "id": "ss7kaum6Z3Ml"
      },
      "execution_count": null,
      "outputs": []
    },
    {
      "cell_type": "code",
      "source": [
        "def create_q_table(rows=5, cols=5):\n",
        "    \"\"\" generate Q Table\"\"\"\n",
        "\n",
        "    # initialize the q_table with all zeros for each state and action\n",
        "    q_table = np.zeros((4, cols * rows))\n",
        "\n",
        "    return q_table"
      ],
      "metadata": {
        "id": "ms3wWP0jZ4uG"
      },
      "execution_count": null,
      "outputs": []
    },
    {
      "cell_type": "code",
      "source": [
        "def get_max_state_value(state, q_table):\n",
        "    \"\"\" Determine the maximum value state based on the current state and Q table\"\"\"\n",
        "\n",
        "    state_action = q_table[:, int(state)]\n",
        "    maximum_state_value = np.amax(state_action)  # return the state value with for the highest action\n",
        "    return maximum_state_value"
      ],
      "metadata": {
        "id": "2x_evNLqZ_-4"
      },
      "execution_count": null,
      "outputs": []
    },
    {
      "cell_type": "code",
      "source": [
        "def iteration_decay(episode):\n",
        "    \"\"\"Simple function to decay epsilon based on episode number\"\"\"\n",
        "\n",
        "    episode_end = 500\n",
        "    start_rate = 0.2\n",
        "    return max(((-start_rate/episode_end)*(episode+1)) + start_rate, 0)"
      ],
      "metadata": {
        "id": "5GE2qbsNaIkE"
      },
      "execution_count": null,
      "outputs": []
    },
    {
      "cell_type": "markdown",
      "source": [
        "## Q-learning\n"
      ],
      "metadata": {
        "id": "kaVhYtHKb-bK"
      }
    },
    {
      "cell_type": "code",
      "source": [
        "def Q_learning(env, alpha, gamma, episodes, epsilon_func, epsilon_override=None):\n",
        "    \"\"\"\n",
        "    Complete a run of Q_learning\n",
        "    :param name: OpenAI environment name\n",
        "    :param alpha: learning rate\n",
        "    :param gamma: decay rate\n",
        "    :param episodes: episodes to run\n",
        "    :param epsilon_func: function defining how epsilon is decayed\n",
        "    :param epsilon_override: override for epsilon (if a constant value is to be used)\n",
        "    :return: reward_cum_array (list of cumulative rewards for each episode)\n",
        "    :return: policy - greedy policy based on final Q table (populated with arrows showing direction)\n",
        "    \"\"\"\n",
        "\n",
        "    env.reset()\n",
        "    q_table = create_q_table()\n",
        "    reward_cum_array = []\n",
        "    delta_array = []\n",
        "    epsilon_array = []\n",
        "\n",
        "    for episode in tqdm(range(episodes)):\n",
        "\n",
        "        reward_cum = 0\n",
        "        state = env.reset()\n",
        "        for _ in range(100):\n",
        "\n",
        "            epsilon = epsilon_override if epsilon_override is not None else epsilon_func(episode)\n",
        "\n",
        "            action = epsilon_greedy_policy(state, q_table=q_table, epsilon=epsilon)\n",
        "\n",
        "            # Take action, observe rewards\n",
        "            new_state, reward, done, info = env.step(action)\n",
        "\n",
        "            next_state_value = get_max_state_value(new_state, q_table=q_table)\n",
        "\n",
        "            target = reward + gamma * next_state_value\n",
        "\n",
        "            reward_cum += reward\n",
        "\n",
        "            # Update Q table:\n",
        "            updated_q_value = (1-alpha) * q_table[action, state] + alpha * target\n",
        "            old_q_value = q_table[action, state]\n",
        "            q_table[action, state] = updated_q_value\n",
        "\n",
        "            state = new_state\n",
        "\n",
        "            # Convergence check\n",
        "            delta_array.append(abs(updated_q_value-old_q_value))\n",
        "            if max(delta_array[-2000:]) < 1e-4 and len(delta_array) > 2000:\n",
        "                print(\"\\nConverged after {} updates, {} episodes\".format(len(delta_array), episode))\n",
        "                env.close()\n",
        "\n",
        "                # Plotting epsilon decay\n",
        "                plt.plot(epsilon_array)\n",
        "                plt.xlabel('Episode')\n",
        "                plt.ylabel('Epsilon')\n",
        "                plt.grid()\n",
        "                plt.show()\n",
        "\n",
        "                return reward_cum_array, q_table  # generate_policy(q_table)\n",
        "\n",
        "            # End conditions\n",
        "            if done:\n",
        "                # Final state reached\n",
        "                break\n",
        "\n",
        "        reward_cum_array.append(reward_cum)\n",
        "        epsilon_array.append(epsilon)\n",
        "\n",
        "    env.close()\n",
        "    print(\"Failed to converge\")\n",
        "    return reward_cum_array, q_table #generate_policy(q_table)"
      ],
      "metadata": {
        "id": "pnm7-wFbZQdK"
      },
      "execution_count": null,
      "outputs": []
    },
    {
      "cell_type": "markdown",
      "source": [
        "## Training configuration"
      ],
      "metadata": {
        "id": "ToiZoF3kaOC8"
      }
    },
    {
      "cell_type": "code",
      "source": [
        "def run(run_count=1):\n",
        "\n",
        "    map_layout = ['SFHFF', 'FHFFF', 'FFFHF', 'FFFFH', 'HFFFG']\n",
        "\n",
        "    slippy = False\n",
        "    env = FrozenLakeEnv(desc=map_layout, is_slippery=slippy)\n",
        "\n",
        "\n",
        "    env.reset()\n",
        "    alpha = 0.5\n",
        "    gamma = 0.6\n",
        "\n",
        "    reward_ts_list = []\n",
        "    policy_table = []\n",
        "\n",
        "    for _run in range(run_count):\n",
        "        reward_ts, policy_table = Q_learning(env=env,\n",
        "                                             alpha=alpha,\n",
        "                                             gamma=gamma,\n",
        "                                             episodes=5000,\n",
        "                                             epsilon_func=iteration_decay,\n",
        "                                             epsilon_override=None)\n",
        "\n",
        "    print(\"\\nSuccess rate over final 1000 episodes : {:.2f}%\\n\".format(100*np.average(reward_ts[-1000:])))\n",
        "    display_grid(policy_table)"
      ],
      "metadata": {
        "id": "QQPhJe44aNwI"
      },
      "execution_count": null,
      "outputs": []
    },
    {
      "cell_type": "code",
      "source": [
        "run(run_count=1)"
      ],
      "metadata": {
        "id": "IcMI-YD8acpA",
        "colab": {
          "base_uri": "https://localhost:8080/",
          "height": 1000
        },
        "outputId": "b8a3f003-21ad-4ddc-a863-06254d16a39c"
      },
      "execution_count": null,
      "outputs": [
        {
          "output_type": "stream",
          "name": "stderr",
          "text": [
            " 12%|█▏        | 620/5000 [00:00<00:04, 1093.17it/s]"
          ]
        },
        {
          "output_type": "stream",
          "name": "stdout",
          "text": [
            "\n",
            "Converged after 5472 updates, 704 episodes\n"
          ]
        },
        {
          "output_type": "display_data",
          "data": {
            "text/plain": [
              "<Figure size 432x288 with 1 Axes>"
            ],
            "image/png": "[encoded data removed]"
          },
          "metadata": {
            "needs_background": "light"
          }
        },
        {
          "output_type": "stream",
          "name": "stderr",
          "text": [
            "\r 14%|█▍        | 704/5000 [00:00<00:05, 782.39it/s] \n"
          ]
        },
        {
          "output_type": "stream",
          "name": "stdout",
          "text": [
            "\n",
            "Success rate over final 1000 episodes : 68.47%\n",
            "\n",
            "\n",
            "Sample policy table:\n",
            "[['↓' '←' '←' '←' '←']\n",
            " ['↓' '←' '←' '←' '←']\n",
            " ['→' '↓' '←' '←' '←']\n",
            " ['↑' '→' '→' '↓' '←']\n",
            " ['←' '↑' '→' '→' '←']]\n",
            "\n",
            "\n"
          ]
        },
        {
          "output_type": "display_data",
          "data": {
            "text/plain": [
              "<Figure size 576x432 with 2 Axes>"
            ],
            "image/png": "[encoded data removed]"
          },
          "metadata": {
            "needs_background": "light"
          }
        },
        {
          "output_type": "stream",
          "name": "stdout",
          "text": [
            "\n",
            "Sample value table:\n",
            "[[0.0279936  0.01626336 0.         0.         0.        ]\n",
            " [0.046656   0.         0.         0.         0.        ]\n",
            " [0.07776    0.1296     0.07641923 0.         0.        ]\n",
            " [0.04647373 0.216      0.36       0.6        0.        ]\n",
            " [0.         0.12452644 0.5961914  1.         0.        ]]\n",
            "\n",
            "\n"
          ]
        },
        {
          "output_type": "display_data",
          "data": {
            "text/plain": [
              "<Figure size 576x432 with 2 Axes>"
            ],
            "image/png": "[encoded data removed]"
          },
          "metadata": {
            "needs_background": "light"
          }
        }
      ]
    }
  ]
}