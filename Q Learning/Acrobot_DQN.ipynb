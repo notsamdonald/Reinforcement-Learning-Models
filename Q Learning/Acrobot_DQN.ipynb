{
  "nbformat": 4,
  "nbformat_minor": 0,
  "metadata": {
    "colab": {
      "name": "HW4_Q3_SamDonald.ipynb",
      "provenance": [],
      "collapsed_sections": [],
      "machine_shape": "hm"
    },
    "kernelspec": {
      "name": "python3",
      "display_name": "Python 3"
    },
    "language_info": {
      "name": "python"
    },
    "accelerator": "GPU"
  },
  "cells": [
    {
      "cell_type": "markdown",
      "source": [
        "# CS5814: Assignment 4\n",
        "\n",
        "## Problem 3"
      ],
      "metadata": {
        "id": "hxeLNPYCa93i"
      }
    },
    {
      "cell_type": "markdown",
      "source": [
        "In problem involves using a DQN to solve the Acrobot OpenAI environment.\n",
        "\n",
        "Details of the environment can be found here: https://gym.openai.com/envs/Acrobot-v1/"
      ],
      "metadata": {
        "id": "IKn6KNV-bBOs"
      }
    },
    {
      "cell_type": "markdown",
      "source": [
        "## Imports"
      ],
      "metadata": {
        "id": "dchg20BcbniV"
      }
    },
    {
      "cell_type": "code",
      "source": [
        "import random\n",
        "from collections import namedtuple, deque\n",
        "from itertools import count\n",
        "\n",
        "import gym\n",
        "import matplotlib.pyplot as plt\n",
        "import numpy as np\n",
        "import torch\n",
        "import torch.nn as nn\n",
        "import torch.optim as optim\n",
        "from tqdm import tqdm\n"
      ],
      "metadata": {
        "id": "o0_bXqE2IHl9"
      },
      "execution_count": null,
      "outputs": []
    },
    {
      "cell_type": "code",
      "source": [
        "torch.cuda.empty_cache()\n",
        "device = torch.device('cuda:0' if torch.cuda.is_available() else 'cpu')\n",
        "print(device)"
      ],
      "metadata": {
        "colab": {
          "base_uri": "https://localhost:8080/"
        },
        "id": "hGSheFp8bpv0",
        "outputId": "b4db6376-9e7e-4749-e6a5-a64544157558"
      },
      "execution_count": null,
      "outputs": [
        {
          "output_type": "stream",
          "name": "stdout",
          "text": [
            "cuda:0\n"
          ]
        }
      ]
    },
    {
      "cell_type": "markdown",
      "source": [
        "## Supporting Functions"
      ],
      "metadata": {
        "id": "_zJ1fxFcjsJO"
      }
    },
    {
      "cell_type": "code",
      "source": [
        "def rand_argmax(b, **kw):\n",
        "    \"\"\" a random tie-breaking argmax\"\"\"\n",
        "    return np.argmax(np.random.random(b.shape) * (b == b.max()), **kw)"
      ],
      "metadata": {
        "id": "OauPhg8MjuKx"
      },
      "execution_count": null,
      "outputs": []
    },
    {
      "cell_type": "code",
      "source": [
        "def running_mean(x, N):\n",
        "    cumsum = np.cumsum(np.insert(x, 0, 0))\n",
        "    return (cumsum[N:] - cumsum[:-N]) / float(N)"
      ],
      "metadata": {
        "id": "Xt7naXjSUMM3"
      },
      "execution_count": null,
      "outputs": []
    },
    {
      "cell_type": "code",
      "source": [
        "def plot_moving_average(rewards):\n",
        "\n",
        "    plt.figure(figsize=(8,6))\n",
        "    plt.plot(rewards, label=\"Individual\", linewidth=1.5)\n",
        "    plt.plot(running_mean(rewards, 10), label=\"Averaged\", linewidth=1.5)\n",
        "    plt.xlabel('Episode')\n",
        "    plt.ylabel('Episode length')\n",
        "    plt.legend()\n",
        "    plt.grid()\n",
        "    plt.show()"
      ],
      "metadata": {
        "id": "npIxws78UST6"
      },
      "execution_count": null,
      "outputs": []
    },
    {
      "cell_type": "markdown",
      "source": [
        "## DQN Supporting Functions"
      ],
      "metadata": {
        "id": "v4ehzGJ8b0kc"
      }
    },
    {
      "cell_type": "code",
      "source": [
        "class ReplayMemory(object):\n",
        "    # From https://pytorch.org/tutorials/intermediate/reinforcement_q_learning.html\n",
        "    \n",
        "    def __init__(self, capacity):\n",
        "        self.memory = deque([], maxlen=capacity)\n",
        "\n",
        "    def push(self, *args):\n",
        "        \"\"\"Save a transition\"\"\"\n",
        "        self.memory.append(Transition(*args))\n",
        "\n",
        "    def sample(self, batch_size):\n",
        "        return random.sample(self.memory, batch_size)\n",
        "\n",
        "    def __len__(self):\n",
        "        return len(self.memory)"
      ],
      "metadata": {
        "id": "JAo5HSzHISqt"
      },
      "execution_count": null,
      "outputs": []
    },
    {
      "cell_type": "code",
      "source": [
        "def iteration_decay(episode):\n",
        "    \"\"\"Simple function to decay epsilon based on episode number\"\"\"\n",
        "\n",
        "    episode_end = 500\n",
        "    start_rate = 0.9\n",
        "    min_eps = 0.01\n",
        "    return max(0.99**episode, min_eps)\n",
        "    #return max(((-start_rate/episode_end)*episode) + start_rate, min_eps)"
      ],
      "metadata": {
        "id": "cxpn7QkOUOhH"
      },
      "execution_count": null,
      "outputs": []
    },
    {
      "cell_type": "code",
      "source": [
        "def epsilon_greedy_policy(state, policy_net, epsilon=0.01):\n",
        "    if np.random.random() < epsilon:\n",
        "        action = random.randint(0, 2)  # TODO - this should instead sample from the action space\n",
        "    else:\n",
        "        action = torch.argmax(policy_net(torch.tensor(state).to(device))).item()\n",
        "    return action"
      ],
      "metadata": {
        "id": "OORPc9kYj4Eo"
      },
      "execution_count": null,
      "outputs": []
    },
    {
      "cell_type": "code",
      "source": [
        "def simulation(env, policy_net, episodes=100, eps=0.05):\n",
        "  # a simulation of number of episodes based on trianed policy to determine performance\n",
        "\n",
        "\n",
        "  episode_durations = []\n",
        "  for i_episode in tqdm(range(episodes)):\n",
        "      # Initialize the environment and state\n",
        "\n",
        "      state = env.reset()\n",
        "\n",
        "      for t in count():\n",
        "          # Select and perform an action\n",
        "          action = epsilon_greedy_policy(state, policy_net, epsilon=eps)\n",
        "          new_state, reward, done, info = env.step(action)\n",
        "\n",
        "          # Exit condition\n",
        "          if done:\n",
        "              break\n",
        "\n",
        "          # Move to the next state\n",
        "          state = new_state\n",
        "\n",
        "\n",
        "      # Track duration\n",
        "      episode_durations.append(t + 1)\n",
        "      \n",
        "  print(\"Average trajectory length: {:.4f}\".format(np.average(episode_durations)))\n"
      ],
      "metadata": {
        "id": "yUsGt005NYMS"
      },
      "execution_count": null,
      "outputs": []
    },
    {
      "cell_type": "code",
      "source": [
        "Transition = namedtuple('Transition',\n",
        "                        ('state', 'action', 'next_state', 'reward'))"
      ],
      "metadata": {
        "id": "vUzryITYkaUq"
      },
      "execution_count": null,
      "outputs": []
    },
    {
      "cell_type": "markdown",
      "source": [
        "## DQN"
      ],
      "metadata": {
        "id": "6xgGx52Hj6jU"
      }
    },
    {
      "cell_type": "code",
      "source": [
        "class DQN(nn.Module):\n",
        "    def __init__(self, state_dim, hidden_dim, action_dim):\n",
        "        super(DQN, self).__init__()\n",
        "\n",
        "        self.state_dim = state_dim\n",
        "        self.hidden_dim = hidden_dim\n",
        "        self.action_dim = action_dim\n",
        "\n",
        "        self.l1 = nn.Linear(self.state_dim, self.hidden_dim)\n",
        "        self.l2 = nn.Linear(self.hidden_dim, self.action_dim)\n",
        "        self.act = nn.ReLU()\n",
        "\n",
        "    def forward(self, x):\n",
        "        x = x.float()\n",
        "        x = self.l1(x)\n",
        "        x = self.act(x)\n",
        "        x = self.l2(x)\n",
        "\n",
        "        return x"
      ],
      "metadata": {
        "id": "Mzf76gUsj58L"
      },
      "execution_count": null,
      "outputs": []
    },
    {
      "cell_type": "code",
      "source": [
        "def optimize_model():\n",
        "    # Taken from https://pytorch.org/tutorials/intermediate/reinforcement_q_learning.html\n",
        "\n",
        "    if len(memory) < batch_size:\n",
        "        return\n",
        "\n",
        "    transitions = memory.sample(batch_size)\n",
        "    batch = Transition(*zip(*transitions))\n",
        "\n",
        "    non_final_mask = torch.tensor(tuple(map(lambda s: s is not None, batch.next_state)), device=device,\n",
        "                                  dtype=torch.bool)\n",
        "    non_final_next_states = torch.stack([s for s in batch.next_state if s is not None])\n",
        "\n",
        "    state_batch = torch.stack(batch.state)\n",
        "    action_batch = torch.stack(batch.action)\n",
        "    reward_batch = torch.stack(batch.reward)\n",
        "\n",
        "    # Compute Q(s_t, a)\n",
        "    # These are the actions which would've been taken\n",
        "    # for each batch state according to policy_net\n",
        "    state_action_values = policy_net(state_batch.to(device)).gather(1, action_batch.reshape(batch_size, 1).to(device))\n",
        "\n",
        "    # Compute V(s_{t+1}) for all next states.\n",
        "    next_state_values = torch.zeros(batch_size, device=device)\n",
        "    next_state_values[non_final_mask] = target_net(non_final_next_states.to(device)).max(1)[0].detach()\n",
        "    # Compute the expected Q values\n",
        "    expected_state_action_values = (next_state_values * gamma) + reward_batch.reshape(batch_size)\n",
        "\n",
        "    # Compute Huber loss\n",
        "    criterion = nn.SmoothL1Loss()\n",
        "    loss = criterion(state_action_values, expected_state_action_values.unsqueeze(1))\n",
        "\n",
        "    # Optimize the model\n",
        "    optimizer.zero_grad()\n",
        "    loss.backward()\n",
        "    \n",
        "    for param in policy_net.parameters():\n",
        "        param.grad.data.clamp_(-1, 1)\n",
        "    optimizer.step()"
      ],
      "metadata": {
        "id": "Gv4XYb4Pj8B8"
      },
      "execution_count": null,
      "outputs": []
    },
    {
      "cell_type": "markdown",
      "source": [
        "## Training Loop"
      ],
      "metadata": {
        "id": "JiLgCWzRkH3R"
      }
    },
    {
      "cell_type": "code",
      "source": [
        "env = gym.make('Acrobot-v1')\n",
        "\n",
        "batch_size = 128\n",
        "gamma = 0.999\n",
        "epsilon = 0.1  # TODO - make this decay\n",
        "target_update = 2  # TODO - what is this?\n",
        "TARGET_UPDATE = 2\n",
        "epsilon_override = None # Used to define a constant ep value\n",
        "epsilon_func = iteration_decay\n",
        "\n",
        "\n",
        "n_actions = env.action_space.n\n",
        "n_states = env.observation_space.shape[0]\n",
        "\n",
        "policy_net = DQN(n_states, 30, n_actions).to(device)\n",
        "target_net = DQN(n_states, 30, n_actions).to(device)\n",
        "\n",
        "# Not sure what this is doing (think it is setting the weights to be the same for both nets)\n",
        "target_net.load_state_dict(policy_net.state_dict())\n",
        "target_net.eval()\n",
        "policy_net.train()\n",
        "\n",
        "optimizer = optim.Adam(policy_net.parameters(), lr=0.001)\n",
        "memory = ReplayMemory(10000)\n",
        "\n",
        "steps = 0\n",
        "episode_durations = []"
      ],
      "metadata": {
        "id": "YklX6enykM8C"
      },
      "execution_count": null,
      "outputs": []
    },
    {
      "cell_type": "code",
      "source": [
        "# Main training loop\n",
        "\n",
        "num_episodes = 500\n",
        "epsilon_array = []\n",
        "for i_episode in range(num_episodes):\n",
        "    # Initialize the environment and state\n",
        "\n",
        "    state = env.reset()\n",
        "\n",
        "    for t in count():\n",
        "        # Select and perform an action\n",
        "\n",
        "        epsilon = epsilon_override if epsilon_override is not None else epsilon_func(i_episode)\n",
        "\n",
        "        action = epsilon_greedy_policy(state, policy_net, epsilon=epsilon)\n",
        "        # env.render()\n",
        "        new_state, reward, done, info = env.step(action)\n",
        "\n",
        "        reward = torch.tensor([reward], device=device)\n",
        "\n",
        "        # Observe new state\n",
        "        if done:\n",
        "            episode_durations.append(t + 1)\n",
        "            break\n",
        "\n",
        "        # Store the transition in memory\n",
        "        memory.push(torch.tensor(state), torch.tensor(action), torch.tensor(new_state), torch.tensor(reward))\n",
        "\n",
        "        # Move to the next state\n",
        "        state = new_state\n",
        "\n",
        "        # Perform one step of the optimization (on the policy network)\n",
        "        optimize_model()\n",
        "\n",
        "        if done:\n",
        "            episode_durations.append(t + 1)\n",
        "            break\n",
        "\n",
        "    # Update the target network, copying all weights and biases in DQN\n",
        "    if i_episode % TARGET_UPDATE == 0:\n",
        "        target_net.load_state_dict(policy_net.state_dict())\n",
        "\n",
        "\n",
        "    epsilon_array.append(epsilon)\n",
        "\n",
        "    print(\"Episode:{}, Steps:{} Epsilon:{:.3f}\".format(i_episode, t + 1, epsilon))\n",
        "\n",
        "plt.plot(episode_durations)\n",
        "plt.show()\n",
        "\n",
        "# Plotting epsilon decay\n",
        "plt.plot(epsilon_array)\n",
        "plt.xlabel('Episode')\n",
        "plt.ylabel('Epsilon')\n",
        "plt.grid()\n",
        "plt.show()\n",
        "\n",
        "print('Complete')"
      ],
      "metadata": {
        "colab": {
          "base_uri": "https://localhost:8080/",
          "height": 1000
        },
        "id": "l5b7w8WIkJxF",
        "outputId": "82d1bbcf-9b6b-4e27-d66b-ab340b9c43fd"
      },
      "execution_count": null,
      "outputs": [
        {
          "output_type": "stream",
          "name": "stderr",
          "text": [
            "/usr/local/lib/python3.7/dist-packages/ipykernel_launcher.py:27: UserWarning: To copy construct from a tensor, it is recommended to use sourceTensor.clone().detach() or sourceTensor.clone().detach().requires_grad_(True), rather than torch.tensor(sourceTensor).\n"
          ]
        },
        {
          "output_type": "stream",
          "name": "stdout",
          "text": [
            "Episode:0, Steps:500 Epsilon:1.000\n",
            "Episode:1, Steps:500 Epsilon:0.990\n",
            "Episode:2, Steps:370 Epsilon:0.980\n",
            "Episode:3, Steps:500 Epsilon:0.970\n",
            "Episode:4, Steps:500 Epsilon:0.961\n",
            "Episode:5, Steps:500 Epsilon:0.951\n",
            "Episode:6, Steps:500 Epsilon:0.941\n",
            "Episode:7, Steps:500 Epsilon:0.932\n",
            "Episode:8, Steps:500 Epsilon:0.923\n",
            "Episode:9, Steps:500 Epsilon:0.914\n",
            "Episode:10, Steps:500 Epsilon:0.904\n",
            "Episode:11, Steps:500 Epsilon:0.895\n",
            "Episode:12, Steps:500 Epsilon:0.886\n",
            "Episode:13, Steps:500 Epsilon:0.878\n",
            "Episode:14, Steps:500 Epsilon:0.869\n",
            "Episode:15, Steps:500 Epsilon:0.860\n",
            "Episode:16, Steps:500 Epsilon:0.851\n",
            "Episode:17, Steps:500 Epsilon:0.843\n",
            "Episode:18, Steps:500 Epsilon:0.835\n",
            "Episode:19, Steps:500 Epsilon:0.826\n",
            "Episode:20, Steps:500 Epsilon:0.818\n",
            "Episode:21, Steps:500 Epsilon:0.810\n",
            "Episode:22, Steps:500 Epsilon:0.802\n",
            "Episode:23, Steps:500 Epsilon:0.794\n",
            "Episode:24, Steps:500 Epsilon:0.786\n",
            "Episode:25, Steps:500 Epsilon:0.778\n",
            "Episode:26, Steps:500 Epsilon:0.770\n",
            "Episode:27, Steps:400 Epsilon:0.762\n",
            "Episode:28, Steps:500 Epsilon:0.755\n",
            "Episode:29, Steps:500 Epsilon:0.747\n",
            "Episode:30, Steps:500 Epsilon:0.740\n",
            "Episode:31, Steps:500 Epsilon:0.732\n",
            "Episode:32, Steps:500 Epsilon:0.725\n",
            "Episode:33, Steps:500 Epsilon:0.718\n",
            "Episode:34, Steps:500 Epsilon:0.711\n",
            "Episode:35, Steps:306 Epsilon:0.703\n",
            "Episode:36, Steps:449 Epsilon:0.696\n",
            "Episode:37, Steps:500 Epsilon:0.689\n",
            "Episode:38, Steps:500 Epsilon:0.683\n",
            "Episode:39, Steps:473 Epsilon:0.676\n",
            "Episode:40, Steps:500 Epsilon:0.669\n",
            "Episode:41, Steps:500 Epsilon:0.662\n",
            "Episode:42, Steps:500 Epsilon:0.656\n",
            "Episode:43, Steps:500 Epsilon:0.649\n",
            "Episode:44, Steps:500 Epsilon:0.643\n",
            "Episode:45, Steps:500 Epsilon:0.636\n",
            "Episode:46, Steps:388 Epsilon:0.630\n",
            "Episode:47, Steps:282 Epsilon:0.624\n",
            "Episode:48, Steps:500 Epsilon:0.617\n",
            "Episode:49, Steps:500 Epsilon:0.611\n",
            "Episode:50, Steps:295 Epsilon:0.605\n",
            "Episode:51, Steps:283 Epsilon:0.599\n",
            "Episode:52, Steps:494 Epsilon:0.593\n",
            "Episode:53, Steps:500 Epsilon:0.587\n",
            "Episode:54, Steps:243 Epsilon:0.581\n",
            "Episode:55, Steps:276 Epsilon:0.575\n",
            "Episode:56, Steps:476 Epsilon:0.570\n",
            "Episode:57, Steps:441 Epsilon:0.564\n",
            "Episode:58, Steps:500 Epsilon:0.558\n",
            "Episode:59, Steps:280 Epsilon:0.553\n",
            "Episode:60, Steps:280 Epsilon:0.547\n",
            "Episode:61, Steps:500 Epsilon:0.542\n",
            "Episode:62, Steps:386 Epsilon:0.536\n",
            "Episode:63, Steps:361 Epsilon:0.531\n",
            "Episode:64, Steps:500 Epsilon:0.526\n",
            "Episode:65, Steps:190 Epsilon:0.520\n",
            "Episode:66, Steps:177 Epsilon:0.515\n",
            "Episode:67, Steps:184 Epsilon:0.510\n",
            "Episode:68, Steps:228 Epsilon:0.505\n",
            "Episode:69, Steps:374 Epsilon:0.500\n",
            "Episode:70, Steps:286 Epsilon:0.495\n",
            "Episode:71, Steps:500 Epsilon:0.490\n",
            "Episode:72, Steps:188 Epsilon:0.485\n",
            "Episode:73, Steps:182 Epsilon:0.480\n",
            "Episode:74, Steps:205 Epsilon:0.475\n",
            "Episode:75, Steps:267 Epsilon:0.471\n",
            "Episode:76, Steps:235 Epsilon:0.466\n",
            "Episode:77, Steps:174 Epsilon:0.461\n",
            "Episode:78, Steps:226 Epsilon:0.457\n",
            "Episode:79, Steps:251 Epsilon:0.452\n",
            "Episode:80, Steps:119 Epsilon:0.448\n",
            "Episode:81, Steps:181 Epsilon:0.443\n",
            "Episode:82, Steps:143 Epsilon:0.439\n",
            "Episode:83, Steps:151 Epsilon:0.434\n",
            "Episode:84, Steps:179 Epsilon:0.430\n",
            "Episode:85, Steps:289 Epsilon:0.426\n",
            "Episode:86, Steps:242 Epsilon:0.421\n",
            "Episode:87, Steps:169 Epsilon:0.417\n",
            "Episode:88, Steps:174 Epsilon:0.413\n",
            "Episode:89, Steps:260 Epsilon:0.409\n",
            "Episode:90, Steps:214 Epsilon:0.405\n",
            "Episode:91, Steps:151 Epsilon:0.401\n",
            "Episode:92, Steps:137 Epsilon:0.397\n",
            "Episode:93, Steps:155 Epsilon:0.393\n",
            "Episode:94, Steps:203 Epsilon:0.389\n",
            "Episode:95, Steps:201 Epsilon:0.385\n",
            "Episode:96, Steps:233 Epsilon:0.381\n",
            "Episode:97, Steps:147 Epsilon:0.377\n",
            "Episode:98, Steps:154 Epsilon:0.373\n",
            "Episode:99, Steps:240 Epsilon:0.370\n",
            "Episode:100, Steps:129 Epsilon:0.366\n",
            "Episode:101, Steps:165 Epsilon:0.362\n",
            "Episode:102, Steps:139 Epsilon:0.359\n",
            "Episode:103, Steps:164 Epsilon:0.355\n",
            "Episode:104, Steps:245 Epsilon:0.352\n",
            "Episode:105, Steps:346 Epsilon:0.348\n",
            "Episode:106, Steps:187 Epsilon:0.345\n",
            "Episode:107, Steps:116 Epsilon:0.341\n",
            "Episode:108, Steps:234 Epsilon:0.338\n",
            "Episode:109, Steps:200 Epsilon:0.334\n",
            "Episode:110, Steps:233 Epsilon:0.331\n",
            "Episode:111, Steps:155 Epsilon:0.328\n",
            "Episode:112, Steps:140 Epsilon:0.324\n",
            "Episode:113, Steps:246 Epsilon:0.321\n",
            "Episode:114, Steps:173 Epsilon:0.318\n",
            "Episode:115, Steps:132 Epsilon:0.315\n",
            "Episode:116, Steps:191 Epsilon:0.312\n",
            "Episode:117, Steps:162 Epsilon:0.309\n",
            "Episode:118, Steps:132 Epsilon:0.305\n",
            "Episode:119, Steps:158 Epsilon:0.302\n",
            "Episode:120, Steps:116 Epsilon:0.299\n",
            "Episode:121, Steps:106 Epsilon:0.296\n",
            "Episode:122, Steps:160 Epsilon:0.293\n",
            "Episode:123, Steps:180 Epsilon:0.290\n",
            "Episode:124, Steps:258 Epsilon:0.288\n",
            "Episode:125, Steps:228 Epsilon:0.285\n",
            "Episode:126, Steps:158 Epsilon:0.282\n",
            "Episode:127, Steps:156 Epsilon:0.279\n",
            "Episode:128, Steps:219 Epsilon:0.276\n",
            "Episode:129, Steps:240 Epsilon:0.273\n",
            "Episode:130, Steps:191 Epsilon:0.271\n",
            "Episode:131, Steps:160 Epsilon:0.268\n",
            "Episode:132, Steps:146 Epsilon:0.265\n",
            "Episode:133, Steps:136 Epsilon:0.263\n",
            "Episode:134, Steps:77 Epsilon:0.260\n",
            "Episode:135, Steps:200 Epsilon:0.257\n",
            "Episode:136, Steps:155 Epsilon:0.255\n",
            "Episode:137, Steps:152 Epsilon:0.252\n",
            "Episode:138, Steps:158 Epsilon:0.250\n",
            "Episode:139, Steps:151 Epsilon:0.247\n",
            "Episode:140, Steps:138 Epsilon:0.245\n",
            "Episode:141, Steps:151 Epsilon:0.242\n",
            "Episode:142, Steps:172 Epsilon:0.240\n",
            "Episode:143, Steps:159 Epsilon:0.238\n",
            "Episode:144, Steps:200 Epsilon:0.235\n",
            "Episode:145, Steps:133 Epsilon:0.233\n",
            "Episode:146, Steps:165 Epsilon:0.231\n",
            "Episode:147, Steps:131 Epsilon:0.228\n",
            "Episode:148, Steps:147 Epsilon:0.226\n",
            "Episode:149, Steps:235 Epsilon:0.224\n",
            "Episode:150, Steps:144 Epsilon:0.221\n",
            "Episode:151, Steps:104 Epsilon:0.219\n",
            "Episode:152, Steps:153 Epsilon:0.217\n",
            "Episode:153, Steps:175 Epsilon:0.215\n",
            "Episode:154, Steps:197 Epsilon:0.213\n",
            "Episode:155, Steps:164 Epsilon:0.211\n",
            "Episode:156, Steps:203 Epsilon:0.208\n",
            "Episode:157, Steps:180 Epsilon:0.206\n",
            "Episode:158, Steps:154 Epsilon:0.204\n",
            "Episode:159, Steps:161 Epsilon:0.202\n",
            "Episode:160, Steps:163 Epsilon:0.200\n",
            "Episode:161, Steps:224 Epsilon:0.198\n",
            "Episode:162, Steps:180 Epsilon:0.196\n",
            "Episode:163, Steps:165 Epsilon:0.194\n",
            "Episode:164, Steps:142 Epsilon:0.192\n",
            "Episode:165, Steps:90 Epsilon:0.190\n",
            "Episode:166, Steps:132 Epsilon:0.189\n",
            "Episode:167, Steps:156 Epsilon:0.187\n",
            "Episode:168, Steps:107 Epsilon:0.185\n",
            "Episode:169, Steps:135 Epsilon:0.183\n",
            "Episode:170, Steps:139 Epsilon:0.181\n",
            "Episode:171, Steps:132 Epsilon:0.179\n",
            "Episode:172, Steps:500 Epsilon:0.178\n",
            "Episode:173, Steps:100 Epsilon:0.176\n",
            "Episode:174, Steps:134 Epsilon:0.174\n",
            "Episode:175, Steps:139 Epsilon:0.172\n",
            "Episode:176, Steps:134 Epsilon:0.171\n",
            "Episode:177, Steps:217 Epsilon:0.169\n",
            "Episode:178, Steps:223 Epsilon:0.167\n",
            "Episode:179, Steps:161 Epsilon:0.165\n",
            "Episode:180, Steps:158 Epsilon:0.164\n",
            "Episode:181, Steps:127 Epsilon:0.162\n",
            "Episode:182, Steps:98 Epsilon:0.161\n",
            "Episode:183, Steps:195 Epsilon:0.159\n",
            "Episode:184, Steps:130 Epsilon:0.157\n",
            "Episode:185, Steps:143 Epsilon:0.156\n",
            "Episode:186, Steps:314 Epsilon:0.154\n",
            "Episode:187, Steps:145 Epsilon:0.153\n",
            "Episode:188, Steps:160 Epsilon:0.151\n",
            "Episode:189, Steps:236 Epsilon:0.150\n",
            "Episode:190, Steps:170 Epsilon:0.148\n",
            "Episode:191, Steps:173 Epsilon:0.147\n",
            "Episode:192, Steps:333 Epsilon:0.145\n",
            "Episode:193, Steps:116 Epsilon:0.144\n",
            "Episode:194, Steps:187 Epsilon:0.142\n",
            "Episode:195, Steps:164 Epsilon:0.141\n",
            "Episode:196, Steps:270 Epsilon:0.139\n",
            "Episode:197, Steps:144 Epsilon:0.138\n",
            "Episode:198, Steps:132 Epsilon:0.137\n",
            "Episode:199, Steps:155 Epsilon:0.135\n",
            "Episode:200, Steps:220 Epsilon:0.134\n",
            "Episode:201, Steps:206 Epsilon:0.133\n",
            "Episode:202, Steps:207 Epsilon:0.131\n",
            "Episode:203, Steps:136 Epsilon:0.130\n",
            "Episode:204, Steps:267 Epsilon:0.129\n",
            "Episode:205, Steps:158 Epsilon:0.127\n",
            "Episode:206, Steps:131 Epsilon:0.126\n",
            "Episode:207, Steps:137 Epsilon:0.125\n",
            "Episode:208, Steps:164 Epsilon:0.124\n",
            "Episode:209, Steps:140 Epsilon:0.122\n",
            "Episode:210, Steps:151 Epsilon:0.121\n",
            "Episode:211, Steps:167 Epsilon:0.120\n",
            "Episode:212, Steps:198 Epsilon:0.119\n",
            "Episode:213, Steps:211 Epsilon:0.118\n",
            "Episode:214, Steps:139 Epsilon:0.116\n",
            "Episode:215, Steps:212 Epsilon:0.115\n",
            "Episode:216, Steps:216 Epsilon:0.114\n",
            "Episode:217, Steps:156 Epsilon:0.113\n",
            "Episode:218, Steps:191 Epsilon:0.112\n",
            "Episode:219, Steps:161 Epsilon:0.111\n",
            "Episode:220, Steps:216 Epsilon:0.110\n",
            "Episode:221, Steps:175 Epsilon:0.108\n",
            "Episode:222, Steps:196 Epsilon:0.107\n",
            "Episode:223, Steps:158 Epsilon:0.106\n",
            "Episode:224, Steps:162 Epsilon:0.105\n",
            "Episode:225, Steps:117 Epsilon:0.104\n",
            "Episode:226, Steps:211 Epsilon:0.103\n",
            "Episode:227, Steps:177 Epsilon:0.102\n",
            "Episode:228, Steps:152 Epsilon:0.101\n",
            "Episode:229, Steps:119 Epsilon:0.100\n",
            "Episode:230, Steps:157 Epsilon:0.099\n",
            "Episode:231, Steps:137 Epsilon:0.098\n",
            "Episode:232, Steps:168 Epsilon:0.097\n",
            "Episode:233, Steps:230 Epsilon:0.096\n",
            "Episode:234, Steps:172 Epsilon:0.095\n",
            "Episode:235, Steps:278 Epsilon:0.094\n",
            "Episode:236, Steps:105 Epsilon:0.093\n",
            "Episode:237, Steps:158 Epsilon:0.092\n",
            "Episode:238, Steps:131 Epsilon:0.091\n",
            "Episode:239, Steps:125 Epsilon:0.091\n",
            "Episode:240, Steps:139 Epsilon:0.090\n",
            "Episode:241, Steps:111 Epsilon:0.089\n",
            "Episode:242, Steps:121 Epsilon:0.088\n",
            "Episode:243, Steps:136 Epsilon:0.087\n",
            "Episode:244, Steps:162 Epsilon:0.086\n",
            "Episode:245, Steps:137 Epsilon:0.085\n",
            "Episode:246, Steps:225 Epsilon:0.084\n",
            "Episode:247, Steps:183 Epsilon:0.084\n",
            "Episode:248, Steps:193 Epsilon:0.083\n",
            "Episode:249, Steps:248 Epsilon:0.082\n",
            "Episode:250, Steps:148 Epsilon:0.081\n",
            "Episode:251, Steps:183 Epsilon:0.080\n",
            "Episode:252, Steps:192 Epsilon:0.079\n",
            "Episode:253, Steps:260 Epsilon:0.079\n",
            "Episode:254, Steps:224 Epsilon:0.078\n",
            "Episode:255, Steps:240 Epsilon:0.077\n",
            "Episode:256, Steps:261 Epsilon:0.076\n",
            "Episode:257, Steps:205 Epsilon:0.076\n",
            "Episode:258, Steps:198 Epsilon:0.075\n",
            "Episode:259, Steps:206 Epsilon:0.074\n",
            "Episode:260, Steps:189 Epsilon:0.073\n",
            "Episode:261, Steps:293 Epsilon:0.073\n",
            "Episode:262, Steps:153 Epsilon:0.072\n",
            "Episode:263, Steps:207 Epsilon:0.071\n",
            "Episode:264, Steps:176 Epsilon:0.070\n",
            "Episode:265, Steps:172 Epsilon:0.070\n",
            "Episode:266, Steps:211 Epsilon:0.069\n",
            "Episode:267, Steps:139 Epsilon:0.068\n",
            "Episode:268, Steps:294 Epsilon:0.068\n",
            "Episode:269, Steps:169 Epsilon:0.067\n",
            "Episode:270, Steps:147 Epsilon:0.066\n",
            "Episode:271, Steps:198 Epsilon:0.066\n",
            "Episode:272, Steps:154 Epsilon:0.065\n",
            "Episode:273, Steps:152 Epsilon:0.064\n",
            "Episode:274, Steps:106 Epsilon:0.064\n",
            "Episode:275, Steps:121 Epsilon:0.063\n",
            "Episode:276, Steps:115 Epsilon:0.062\n",
            "Episode:277, Steps:116 Epsilon:0.062\n",
            "Episode:278, Steps:141 Epsilon:0.061\n",
            "Episode:279, Steps:103 Epsilon:0.061\n",
            "Episode:280, Steps:249 Epsilon:0.060\n",
            "Episode:281, Steps:120 Epsilon:0.059\n",
            "Episode:282, Steps:149 Epsilon:0.059\n",
            "Episode:283, Steps:147 Epsilon:0.058\n",
            "Episode:284, Steps:186 Epsilon:0.058\n",
            "Episode:285, Steps:247 Epsilon:0.057\n",
            "Episode:286, Steps:202 Epsilon:0.056\n",
            "Episode:287, Steps:114 Epsilon:0.056\n",
            "Episode:288, Steps:178 Epsilon:0.055\n",
            "Episode:289, Steps:136 Epsilon:0.055\n",
            "Episode:290, Steps:151 Epsilon:0.054\n",
            "Episode:291, Steps:159 Epsilon:0.054\n",
            "Episode:292, Steps:184 Epsilon:0.053\n",
            "Episode:293, Steps:187 Epsilon:0.053\n",
            "Episode:294, Steps:168 Epsilon:0.052\n",
            "Episode:295, Steps:141 Epsilon:0.052\n",
            "Episode:296, Steps:240 Epsilon:0.051\n",
            "Episode:297, Steps:171 Epsilon:0.051\n",
            "Episode:298, Steps:137 Epsilon:0.050\n",
            "Episode:299, Steps:94 Epsilon:0.050\n",
            "Episode:300, Steps:152 Epsilon:0.049\n",
            "Episode:301, Steps:207 Epsilon:0.049\n",
            "Episode:302, Steps:238 Epsilon:0.048\n",
            "Episode:303, Steps:146 Epsilon:0.048\n",
            "Episode:304, Steps:160 Epsilon:0.047\n",
            "Episode:305, Steps:189 Epsilon:0.047\n",
            "Episode:306, Steps:134 Epsilon:0.046\n",
            "Episode:307, Steps:94 Epsilon:0.046\n",
            "Episode:308, Steps:123 Epsilon:0.045\n",
            "Episode:309, Steps:92 Epsilon:0.045\n",
            "Episode:310, Steps:84 Epsilon:0.044\n",
            "Episode:311, Steps:204 Epsilon:0.044\n",
            "Episode:312, Steps:143 Epsilon:0.043\n",
            "Episode:313, Steps:138 Epsilon:0.043\n",
            "Episode:314, Steps:141 Epsilon:0.043\n",
            "Episode:315, Steps:143 Epsilon:0.042\n",
            "Episode:316, Steps:96 Epsilon:0.042\n",
            "Episode:317, Steps:142 Epsilon:0.041\n",
            "Episode:318, Steps:100 Epsilon:0.041\n",
            "Episode:319, Steps:144 Epsilon:0.041\n",
            "Episode:320, Steps:148 Epsilon:0.040\n",
            "Episode:321, Steps:113 Epsilon:0.040\n",
            "Episode:322, Steps:162 Epsilon:0.039\n",
            "Episode:323, Steps:146 Epsilon:0.039\n",
            "Episode:324, Steps:127 Epsilon:0.039\n",
            "Episode:325, Steps:158 Epsilon:0.038\n",
            "Episode:326, Steps:283 Epsilon:0.038\n",
            "Episode:327, Steps:171 Epsilon:0.037\n",
            "Episode:328, Steps:165 Epsilon:0.037\n",
            "Episode:329, Steps:97 Epsilon:0.037\n",
            "Episode:330, Steps:177 Epsilon:0.036\n",
            "Episode:331, Steps:124 Epsilon:0.036\n",
            "Episode:332, Steps:92 Epsilon:0.036\n",
            "Episode:333, Steps:132 Epsilon:0.035\n",
            "Episode:334, Steps:146 Epsilon:0.035\n",
            "Episode:335, Steps:120 Epsilon:0.034\n",
            "Episode:336, Steps:119 Epsilon:0.034\n",
            "Episode:337, Steps:187 Epsilon:0.034\n",
            "Episode:338, Steps:138 Epsilon:0.033\n",
            "Episode:339, Steps:107 Epsilon:0.033\n",
            "Episode:340, Steps:240 Epsilon:0.033\n",
            "Episode:341, Steps:174 Epsilon:0.032\n",
            "Episode:342, Steps:121 Epsilon:0.032\n",
            "Episode:343, Steps:188 Epsilon:0.032\n",
            "Episode:344, Steps:263 Epsilon:0.032\n",
            "Episode:345, Steps:173 Epsilon:0.031\n",
            "Episode:346, Steps:115 Epsilon:0.031\n",
            "Episode:347, Steps:159 Epsilon:0.031\n",
            "Episode:348, Steps:115 Epsilon:0.030\n",
            "Episode:349, Steps:154 Epsilon:0.030\n",
            "Episode:350, Steps:132 Epsilon:0.030\n",
            "Episode:351, Steps:98 Epsilon:0.029\n",
            "Episode:352, Steps:157 Epsilon:0.029\n",
            "Episode:353, Steps:136 Epsilon:0.029\n",
            "Episode:354, Steps:104 Epsilon:0.029\n",
            "Episode:355, Steps:125 Epsilon:0.028\n",
            "Episode:356, Steps:116 Epsilon:0.028\n",
            "Episode:357, Steps:143 Epsilon:0.028\n",
            "Episode:358, Steps:129 Epsilon:0.027\n",
            "Episode:359, Steps:147 Epsilon:0.027\n",
            "Episode:360, Steps:113 Epsilon:0.027\n",
            "Episode:361, Steps:110 Epsilon:0.027\n",
            "Episode:362, Steps:84 Epsilon:0.026\n",
            "Episode:363, Steps:126 Epsilon:0.026\n",
            "Episode:364, Steps:187 Epsilon:0.026\n",
            "Episode:365, Steps:153 Epsilon:0.026\n",
            "Episode:366, Steps:225 Epsilon:0.025\n",
            "Episode:367, Steps:126 Epsilon:0.025\n",
            "Episode:368, Steps:243 Epsilon:0.025\n",
            "Episode:369, Steps:128 Epsilon:0.025\n",
            "Episode:370, Steps:106 Epsilon:0.024\n",
            "Episode:371, Steps:90 Epsilon:0.024\n",
            "Episode:372, Steps:99 Epsilon:0.024\n",
            "Episode:373, Steps:161 Epsilon:0.024\n",
            "Episode:374, Steps:108 Epsilon:0.023\n",
            "Episode:375, Steps:112 Epsilon:0.023\n",
            "Episode:376, Steps:240 Epsilon:0.023\n",
            "Episode:377, Steps:115 Epsilon:0.023\n",
            "Episode:378, Steps:131 Epsilon:0.022\n",
            "Episode:379, Steps:122 Epsilon:0.022\n",
            "Episode:380, Steps:107 Epsilon:0.022\n",
            "Episode:381, Steps:146 Epsilon:0.022\n",
            "Episode:382, Steps:81 Epsilon:0.022\n",
            "Episode:383, Steps:113 Epsilon:0.021\n",
            "Episode:384, Steps:103 Epsilon:0.021\n",
            "Episode:385, Steps:124 Epsilon:0.021\n",
            "Episode:386, Steps:96 Epsilon:0.021\n",
            "Episode:387, Steps:130 Epsilon:0.020\n",
            "Episode:388, Steps:148 Epsilon:0.020\n",
            "Episode:389, Steps:91 Epsilon:0.020\n",
            "Episode:390, Steps:206 Epsilon:0.020\n",
            "Episode:391, Steps:150 Epsilon:0.020\n",
            "Episode:392, Steps:169 Epsilon:0.019\n",
            "Episode:393, Steps:161 Epsilon:0.019\n",
            "Episode:394, Steps:145 Epsilon:0.019\n",
            "Episode:395, Steps:132 Epsilon:0.019\n",
            "Episode:396, Steps:94 Epsilon:0.019\n",
            "Episode:397, Steps:149 Epsilon:0.019\n",
            "Episode:398, Steps:97 Epsilon:0.018\n",
            "Episode:399, Steps:79 Epsilon:0.018\n",
            "Episode:400, Steps:96 Epsilon:0.018\n",
            "Episode:401, Steps:168 Epsilon:0.018\n",
            "Episode:402, Steps:134 Epsilon:0.018\n",
            "Episode:403, Steps:161 Epsilon:0.017\n",
            "Episode:404, Steps:121 Epsilon:0.017\n",
            "Episode:405, Steps:134 Epsilon:0.017\n",
            "Episode:406, Steps:117 Epsilon:0.017\n",
            "Episode:407, Steps:107 Epsilon:0.017\n",
            "Episode:408, Steps:97 Epsilon:0.017\n",
            "Episode:409, Steps:108 Epsilon:0.016\n",
            "Episode:410, Steps:108 Epsilon:0.016\n",
            "Episode:411, Steps:93 Epsilon:0.016\n",
            "Episode:412, Steps:133 Epsilon:0.016\n",
            "Episode:413, Steps:101 Epsilon:0.016\n",
            "Episode:414, Steps:176 Epsilon:0.016\n",
            "Episode:415, Steps:120 Epsilon:0.015\n",
            "Episode:416, Steps:128 Epsilon:0.015\n",
            "Episode:417, Steps:119 Epsilon:0.015\n",
            "Episode:418, Steps:248 Epsilon:0.015\n",
            "Episode:419, Steps:115 Epsilon:0.015\n",
            "Episode:420, Steps:145 Epsilon:0.015\n",
            "Episode:421, Steps:172 Epsilon:0.015\n",
            "Episode:422, Steps:100 Epsilon:0.014\n",
            "Episode:423, Steps:152 Epsilon:0.014\n",
            "Episode:424, Steps:128 Epsilon:0.014\n",
            "Episode:425, Steps:99 Epsilon:0.014\n",
            "Episode:426, Steps:128 Epsilon:0.014\n",
            "Episode:427, Steps:138 Epsilon:0.014\n",
            "Episode:428, Steps:127 Epsilon:0.014\n",
            "Episode:429, Steps:137 Epsilon:0.013\n",
            "Episode:430, Steps:205 Epsilon:0.013\n",
            "Episode:431, Steps:132 Epsilon:0.013\n",
            "Episode:432, Steps:252 Epsilon:0.013\n",
            "Episode:433, Steps:194 Epsilon:0.013\n",
            "Episode:434, Steps:142 Epsilon:0.013\n",
            "Episode:435, Steps:98 Epsilon:0.013\n",
            "Episode:436, Steps:117 Epsilon:0.013\n",
            "Episode:437, Steps:116 Epsilon:0.012\n",
            "Episode:438, Steps:99 Epsilon:0.012\n",
            "Episode:439, Steps:121 Epsilon:0.012\n",
            "Episode:440, Steps:159 Epsilon:0.012\n",
            "Episode:441, Steps:128 Epsilon:0.012\n",
            "Episode:442, Steps:140 Epsilon:0.012\n",
            "Episode:443, Steps:172 Epsilon:0.012\n",
            "Episode:444, Steps:117 Epsilon:0.012\n",
            "Episode:445, Steps:124 Epsilon:0.011\n",
            "Episode:446, Steps:115 Epsilon:0.011\n",
            "Episode:447, Steps:113 Epsilon:0.011\n",
            "Episode:448, Steps:174 Epsilon:0.011\n",
            "Episode:449, Steps:118 Epsilon:0.011\n",
            "Episode:450, Steps:99 Epsilon:0.011\n",
            "Episode:451, Steps:107 Epsilon:0.011\n",
            "Episode:452, Steps:110 Epsilon:0.011\n",
            "Episode:453, Steps:96 Epsilon:0.011\n",
            "Episode:454, Steps:122 Epsilon:0.010\n",
            "Episode:455, Steps:87 Epsilon:0.010\n",
            "Episode:456, Steps:127 Epsilon:0.010\n",
            "Episode:457, Steps:202 Epsilon:0.010\n",
            "Episode:458, Steps:133 Epsilon:0.010\n",
            "Episode:459, Steps:151 Epsilon:0.010\n",
            "Episode:460, Steps:116 Epsilon:0.010\n",
            "Episode:461, Steps:204 Epsilon:0.010\n",
            "Episode:462, Steps:114 Epsilon:0.010\n",
            "Episode:463, Steps:135 Epsilon:0.010\n",
            "Episode:464, Steps:145 Epsilon:0.010\n",
            "Episode:465, Steps:153 Epsilon:0.010\n",
            "Episode:466, Steps:151 Epsilon:0.010\n",
            "Episode:467, Steps:114 Epsilon:0.010\n",
            "Episode:468, Steps:96 Epsilon:0.010\n",
            "Episode:469, Steps:120 Epsilon:0.010\n",
            "Episode:470, Steps:103 Epsilon:0.010\n",
            "Episode:471, Steps:120 Epsilon:0.010\n",
            "Episode:472, Steps:147 Epsilon:0.010\n",
            "Episode:473, Steps:114 Epsilon:0.010\n",
            "Episode:474, Steps:89 Epsilon:0.010\n",
            "Episode:475, Steps:122 Epsilon:0.010\n",
            "Episode:476, Steps:140 Epsilon:0.010\n",
            "Episode:477, Steps:147 Epsilon:0.010\n",
            "Episode:478, Steps:98 Epsilon:0.010\n",
            "Episode:479, Steps:127 Epsilon:0.010\n",
            "Episode:480, Steps:100 Epsilon:0.010\n",
            "Episode:481, Steps:93 Epsilon:0.010\n",
            "Episode:482, Steps:91 Epsilon:0.010\n",
            "Episode:483, Steps:181 Epsilon:0.010\n",
            "Episode:484, Steps:142 Epsilon:0.010\n",
            "Episode:485, Steps:121 Epsilon:0.010\n",
            "Episode:486, Steps:98 Epsilon:0.010\n",
            "Episode:487, Steps:96 Epsilon:0.010\n",
            "Episode:488, Steps:116 Epsilon:0.010\n",
            "Episode:489, Steps:93 Epsilon:0.010\n",
            "Episode:490, Steps:133 Epsilon:0.010\n",
            "Episode:491, Steps:79 Epsilon:0.010\n",
            "Episode:492, Steps:96 Epsilon:0.010\n",
            "Episode:493, Steps:94 Epsilon:0.010\n",
            "Episode:494, Steps:111 Epsilon:0.010\n",
            "Episode:495, Steps:166 Epsilon:0.010\n",
            "Episode:496, Steps:167 Epsilon:0.010\n",
            "Episode:497, Steps:113 Epsilon:0.010\n",
            "Episode:498, Steps:115 Epsilon:0.010\n",
            "Episode:499, Steps:92 Epsilon:0.010\n"
          ]
        },
        {
          "output_type": "display_data",
          "data": {
            "text/plain": [
              "<Figure size 432x288 with 1 Axes>"
            ],
            "image/png": "[encoded data removed]"
          },
          "metadata": {
            "needs_background": "light"
          }
        },
        {
          "output_type": "display_data",
          "data": {
            "text/plain": [
              "<Figure size 432x288 with 1 Axes>"
            ],
            "image/png": "[encoded data removed]"
          },
          "metadata": {
            "needs_background": "light"
          }
        },
        {
          "output_type": "stream",
          "name": "stdout",
          "text": [
            "Complete\n"
          ]
        }
      ]
    },
    {
      "cell_type": "code",
      "source": [
        "simulation(env, policy_net, episodes=100, eps=0.00)"
      ],
      "metadata": {
        "id": "QQoHUPXokPKZ",
        "colab": {
          "base_uri": "https://localhost:8080/"
        },
        "outputId": "f61b4197-f6d2-4b8b-ec2d-39e38dc25073"
      },
      "execution_count": null,
      "outputs": [
        {
          "output_type": "stream",
          "name": "stderr",
          "text": [
            "100%|██████████| 100/100 [00:04<00:00, 20.87it/s]"
          ]
        },
        {
          "output_type": "stream",
          "name": "stdout",
          "text": [
            "Average trajectory length: 109.6400\n"
          ]
        },
        {
          "output_type": "stream",
          "name": "stderr",
          "text": [
            "\n"
          ]
        }
      ]
    },
    {
      "cell_type": "code",
      "source": [
        "plot_moving_average(episode_durations)"
      ],
      "metadata": {
        "colab": {
          "base_uri": "https://localhost:8080/",
          "height": 388
        },
        "id": "TlK_7zWIUxDC",
        "outputId": "365e0dfc-52c6-4875-de39-45e5150615c6"
      },
      "execution_count": null,
      "outputs": [
        {
          "output_type": "display_data",
          "data": {
            "text/plain": [
              "<Figure size 576x432 with 1 Axes>"
            ],
            "image/png": "[encoded data removed]"
          },
          "metadata": {
            "needs_background": "light"
          }
        }
      ]
    }
  ]
}